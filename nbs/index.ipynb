{
 "cells": [
  {
   "cell_type": "markdown",
   "metadata": {},
   "source": [
    "# fastdata\n",
    "\n",
    "> Easiest and fastest way to generate 1B synthetic tokens\n",
    "\n",
    "Minimalist library that wraps around `claudette` to make generating synthetic data easy."
   ]
  },
  {
   "cell_type": "markdown",
   "metadata": {},
   "source": [
    "## About fastdata\n",
    "\n",
    "`fastdata` is a minimal library for generating synthetic data for training deep learning models. For example, below is how you can generate a dataset to train a language model to\n",
    "translate from English to Spanish."
   ]
  },
  {
   "cell_type": "markdown",
   "metadata": {},
   "source": [
    "First you need to define the structure of the data you want to generate. `claudette`, which is the library that fastdata uses to generate data, requires you to define the schema of the data you want to generate."
   ]
  },
  {
   "cell_type": "code",
   "execution_count": null,
   "metadata": {},
   "outputs": [],
   "source": [
    "from fastcore.utils import *"
   ]
  },
  {
   "cell_type": "code",
   "execution_count": null,
   "metadata": {},
   "outputs": [
    {
     "data": {
      "text/plain": [
       "Hello, how are you today? ➡ *Hola, ¿cómo estás hoy?*"
      ]
     },
     "execution_count": null,
     "metadata": {},
     "output_type": "execute_result"
    }
   ],
   "source": [
    "class Translation():\n",
    "    \"Translation from an English phrase to a Spanish phrase\"\n",
    "    def __init__(self, english: str, spanish: str): store_attr()\n",
    "    def __repr__(self): return f\"{self.english} ➡ *{self.spanish}*\"\n",
    "\n",
    "Translation(\"Hello, how are you today?\", \"Hola, ¿cómo estás hoy?\")"
   ]
  },
  {
   "cell_type": "markdown",
   "metadata": {},
   "source": [
    "Next, you need to define the prompt that will be used to generate the data and any inputs you want to pass to the prompt."
   ]
  },
  {
   "cell_type": "code",
   "execution_count": null,
   "metadata": {},
   "outputs": [],
   "source": [
    "prompt_template = \"\"\"\\\n",
    "Generate English and Spanish translations on the following topic:\n",
    "<topic>{topic}</topic>\n",
    "\"\"\"\n",
    "\n",
    "inputs = [{\"topic\": \"Otters are cute\"}, {\"topic\": \"I love programming\"}]"
   ]
  },
  {
   "cell_type": "markdown",
   "metadata": {},
   "source": [
    "Finally, we can generate some data with fastdata.\n",
    "\n",
    "::: {.callout-note}\n",
    "We only support Anthropic models at the moment. Therefore, make sure you have an API key for the model you want to use and the proper environment variables set or pass the api key to the `FastData` class `FastData(api_key=\"sk-ant-api03-...\")`.\n",
    ":::"
   ]
  },
  {
   "cell_type": "code",
   "execution_count": null,
   "metadata": {},
   "outputs": [],
   "source": [
    "from fastdata.core import FastData"
   ]
  },
  {
   "cell_type": "code",
   "execution_count": null,
   "metadata": {},
   "outputs": [
    {
     "name": "stderr",
     "output_type": "stream",
     "text": [
      "100%|███████████████████████████████████████████████████████████████████████████████████████████████████████████████████████| 2/2 [00:01<00:00,  1.57it/s]\n"
     ]
    }
   ],
   "source": [
    "fast_data = FastData(model=\"claude-3-haiku-20240307\")\n",
    "translations = fast_data.generate(\n",
    "    prompt_template=prompt_template,\n",
    "    inputs=inputs,\n",
    "    schema=Translation,\n",
    ")"
   ]
  },
  {
   "cell_type": "code",
   "execution_count": null,
   "metadata": {},
   "outputs": [],
   "source": [
    "from IPython.display import Markdown"
   ]
  },
  {
   "cell_type": "code",
   "execution_count": null,
   "metadata": {},
   "outputs": [
    {
     "data": {
      "text/markdown": [
       "- I love programming ➡ *Me encanta la programación*\n",
       "- Otters are cute ➡ *Las nutrias son lindas*"
      ],
      "text/plain": [
       "<IPython.core.display.Markdown object>"
      ]
     },
     "execution_count": null,
     "metadata": {},
     "output_type": "execute_result"
    }
   ],
   "source": [
    "Markdown(\"\\n\".join(f'- {t}' for t in translations))"
   ]
  },
  {
   "cell_type": "markdown",
   "metadata": {},
   "source": [
    "### Installation"
   ]
  },
  {
   "cell_type": "markdown",
   "metadata": {},
   "source": [
    "Install latest from the GitHub [repository][repo]:\n",
    "\n",
    "```sh\n",
    "$ pip install git+https://github.com/AnswerDotAI/fastdata.git\n",
    "```\n",
    "\n",
    "or from [pypi][pypi]\n",
    "\n",
    "\n",
    "```sh\n",
    "$ pip install python-fastdata\n",
    "```\n",
    "\n",
    "[repo]: https://github.com/AnswerDotAI/fastdata\n",
    "[docs]: https://AnswerDotAI.github.io/fastdata/\n",
    "[pypi]: https://pypi.org/project/fastdata/"
   ]
  },
  {
   "cell_type": "markdown",
   "metadata": {},
   "source": [
    "If you'd like to see how best to generate data with fastdata, check out our blog post [here](https://www.answer.ai/blog/introducing-fastdata) and some of the examples in the [examples](https://github.com/AnswerDotAI/fastdata/tree/main/examples) directory."
   ]
  },
  {
   "cell_type": "markdown",
   "metadata": {},
   "source": [
    "## Developer Guide"
   ]
  },
  {
   "cell_type": "markdown",
   "metadata": {},
   "source": [
    "If you are new to using `nbdev` here are some useful pointers to get you started."
   ]
  },
  {
   "cell_type": "markdown",
   "metadata": {},
   "source": [
    "### Install fastdata in Development mode"
   ]
  },
  {
   "cell_type": "markdown",
   "metadata": {},
   "source": [
    "```sh\n",
    "# make sure fastdata package is installed in development mode\n",
    "$ pip install -e .\n",
    "\n",
    "# make changes under nbs/ directory\n",
    "# ...\n",
    "\n",
    "# compile to have changes apply to fastdata\n",
    "$ nbdev_prepare\n",
    "```"
   ]
  }
 ],
 "metadata": {
  "kernelspec": {
   "display_name": "python3",
   "language": "python",
   "name": "python3"
  }
 },
 "nbformat": 4,
 "nbformat_minor": 4
}
