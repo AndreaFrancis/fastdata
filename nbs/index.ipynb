{
 "cells": [
  {
   "cell_type": "markdown",
   "metadata": {},
   "source": [
    "# fastdata\n",
    "\n",
    "> Easiest and fastest way to 1B synthetic tokens\n",
    "\n",
    "Minimalist library that wraps around `instructor` to make generating synthetic data easy."
   ]
  },
  {
   "cell_type": "markdown",
   "metadata": {},
   "source": [
    "## Developer Guide"
   ]
  },
  {
   "cell_type": "markdown",
   "metadata": {},
   "source": [
    "If you are new to using `nbdev` here are some useful pointers to get you started."
   ]
  },
  {
   "cell_type": "markdown",
   "metadata": {},
   "source": [
    "### Install fastdata in Development mode"
   ]
  },
  {
   "cell_type": "markdown",
   "metadata": {},
   "source": [
    "```sh\n",
    "# make sure fastdata package is installed in development mode\n",
    "$ pip install -e .\n",
    "\n",
    "# make changes under nbs/ directory\n",
    "# ...\n",
    "\n",
    "# compile to have changes apply to fastdata\n",
    "$ nbdev_prepare\n",
    "```"
   ]
  },
  {
   "cell_type": "markdown",
   "metadata": {},
   "source": [
    "## Usage"
   ]
  },
  {
   "cell_type": "markdown",
   "metadata": {},
   "source": [
    "### Installation"
   ]
  },
  {
   "cell_type": "markdown",
   "metadata": {},
   "source": [
    "Install latest from the GitHub [repository][repo]:\n",
    "\n",
    "```sh\n",
    "$ pip install git+https://github.com/AnswerDotAI/fastdata.git\n",
    "```\n",
    "\n",
    "or from [conda][conda]\n",
    "\n",
    "```sh\n",
    "$ conda install -c AnswerDotAI fastdata\n",
    "```\n",
    "\n",
    "or from [pypi][pypi]\n",
    "\n",
    "\n",
    "```sh\n",
    "$ pip install fastdata\n",
    "```\n",
    "\n",
    "\n",
    "[repo]: https://github.com/AnswerDotAI/fastdata\n",
    "[docs]: https://AnswerDotAI.github.io/fastdata/\n",
    "[pypi]: https://pypi.org/project/fastdata/\n",
    "[conda]: https://anaconda.org/AnswerDotAI/fastdata"
   ]
  },
  {
   "cell_type": "markdown",
   "metadata": {},
   "source": [
    "### Documentation"
   ]
  },
  {
   "cell_type": "markdown",
   "metadata": {},
   "source": [
    "Documentation can be found hosted on this GitHub [repository][repo]'s [pages][docs]. Additionally you can find package manager specific guidelines on [conda][conda] and [pypi][pypi] respectively.\n",
    "\n",
    "[repo]: https://github.com/AnswerDotAI/fastdata\n",
    "[docs]: https://AnswerDotAI.github.io/fastdata/\n",
    "[pypi]: https://pypi.org/project/fastdata/\n",
    "[conda]: https://anaconda.org/AnswerDotAI/fastdata"
   ]
  },
  {
   "cell_type": "markdown",
   "metadata": {},
   "source": [
    "## How to use"
   ]
  },
  {
   "cell_type": "markdown",
   "metadata": {},
   "source": [
    "First you need to define the structure of the data you want to generate. `instructor`, which is the library that fastdata uses to generate data, requires you to define the schema of the data you want to generate. This is done using pydantic models."
   ]
  },
  {
   "cell_type": "code",
   "execution_count": null,
   "metadata": {},
   "outputs": [],
   "source": [
    "from pydantic import BaseModel, Field\n",
    "\n",
    "class Translation(BaseModel):\n",
    "    english: str = Field(description=\"An english phrase\")\n",
    "    german: str = Field(description=\"An equivalent german phrase that is a translation of the english phrase\")"
   ]
  },
  {
   "cell_type": "markdown",
   "metadata": {},
   "source": [
    "Next, you need to define the prompt that will be used to generate the data and any inputs you want to pass to the prompt."
   ]
  },
  {
   "cell_type": "code",
   "execution_count": null,
   "metadata": {},
   "outputs": [],
   "source": [
    "prompt_template = \"\"\"\\\n",
    "Generate English and German translations on the following topic:\n",
    "{topic}\n",
    "\"\"\"\n",
    "\n",
    "inputs = [{\"topic\": \"Otters are cute\"}, {\"topic\": \"I love programming\"}]"
   ]
  },
  {
   "cell_type": "markdown",
   "metadata": {},
   "source": [
    "Finally, we can generate some data with fastdata.\n",
    "\n",
    "::: {.callout-note}\n",
    "We only support Anthropic models at the moment. Therefore, make sure you have an API key for the model you want to use and the proper environment variables set or pass the api key to the `FastData` class `FastData(api_key=\"sk-ant-api03-...\")`.\n",
    ":::"
   ]
  },
  {
   "cell_type": "code",
   "execution_count": null,
   "metadata": {},
   "outputs": [
    {
     "name": "stderr",
     "output_type": "stream",
     "text": [
      "100%|██████████| 2/2 [00:00<00:00,  2.21it/s]"
     ]
    },
    {
     "name": "stdout",
     "output_type": "stream",
     "text": [
      "Translations:\n",
      "[   {'english': 'Otters are cute', 'german': 'Otter sind süß'},\n",
      "    {'english': 'I love programming', 'german': 'Ich liebe das Programmieren'}]\n"
     ]
    },
    {
     "name": "stderr",
     "output_type": "stream",
     "text": [
      "\n"
     ]
    }
   ],
   "source": [
    "from fastdata.core import FastData\n",
    "\n",
    "import pprint\n",
    "\n",
    "# Create a pretty printer object with custom settings\n",
    "pp = pprint.PrettyPrinter(indent=4, width=100, compact=False)\n",
    "\n",
    "fast_data = FastData()\n",
    "translations = fast_data.generate(\n",
    "    prompt_template=prompt_template,\n",
    "    inputs=inputs,\n",
    "    response_model=Translation,\n",
    "    model=\"claude-3-haiku-20240307\"\n",
    ")\n",
    "\n",
    "# Pretty print the translations\n",
    "print(\"Translations:\")\n",
    "pp.pprint(translations)"
   ]
  },
  {
   "cell_type": "markdown",
   "metadata": {},
   "source": [
    "If you'd like to see how best to generate data with fastdata, check out our blog post [here](https://www.answer.ai/blog/introducing-fastdata) and some of the examples in the [examples](https://github.com/AnswerDotAI/fastdata/tree/main/examples) directory."
   ]
  }
 ],
 "metadata": {
  "kernelspec": {
   "display_name": "python3",
   "language": "python",
   "name": "python3"
  }
 },
 "nbformat": 4,
 "nbformat_minor": 4
}
