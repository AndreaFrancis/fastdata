{
 "cells": [
  {
   "cell_type": "markdown",
   "metadata": {},
   "source": [
    "# core\n",
    "\n",
    "> Fill in a module description here"
   ]
  },
  {
   "cell_type": "code",
   "execution_count": null,
   "metadata": {},
   "outputs": [],
   "source": [
    "#| default_exp core"
   ]
  },
  {
   "cell_type": "code",
   "execution_count": null,
   "metadata": {},
   "outputs": [],
   "source": [
    "#| hide\n",
    "from nbdev.showdoc import *"
   ]
  },
  {
   "cell_type": "code",
   "execution_count": 1,
   "metadata": {},
   "outputs": [],
   "source": [
    "#| export\n",
    "import concurrent.futures\n",
    "from pydantic import BaseModel\n",
    "import instructor\n",
    "import anthropic\n",
    "from tqdm import tqdm\n",
    "from ratelimit import limits, sleep_and_retry"
   ]
  },
  {
   "cell_type": "code",
   "execution_count": 2,
   "metadata": {},
   "outputs": [],
   "source": [
    "#| export\n",
    "class FastData:\n",
    "    def __init__(self, api_key: str | None = None, calls: int = 100, period: int = 60):\n",
    "        self.client = instructor.from_anthropic(anthropic.Anthropic(api_key=api_key))\n",
    "        self.set_rate_limit(calls, period)\n",
    "\n",
    "    def set_rate_limit(self, calls: int, period: int):\n",
    "        \"\"\"Set a new rate limit.\"\"\"\n",
    "        @sleep_and_retry\n",
    "        @limits(calls=calls, period=period)\n",
    "        def rate_limited_call(model: str, messages: list[dict], response_model: BaseModel):\n",
    "            return self.client.chat.completions.create(\n",
    "                model=model,\n",
    "                max_tokens=4096,\n",
    "                max_retries=1,\n",
    "                messages=messages,\n",
    "                response_model=response_model,\n",
    "            )\n",
    "        \n",
    "        self._rate_limited_call = rate_limited_call\n",
    "\n",
    "    def generate(self, \n",
    "                 prompt_template: str, \n",
    "                 inputs: list[dict], \n",
    "                 response_model: BaseModel, \n",
    "                 model: str = \"claude-3-haiku-20240307\",\n",
    "                 max_workers: int = 64) -> list[dict]:\n",
    "        \n",
    "        def process_input(input_data):\n",
    "            try:\n",
    "                prompt = prompt_template.format(**input_data)\n",
    "                response = self._rate_limited_call(\n",
    "                    model=model,\n",
    "                    messages=[{\"role\": \"user\", \"content\": prompt}],\n",
    "                    response_model=response_model,\n",
    "                )\n",
    "                return response.dict()\n",
    "            except Exception as e:\n",
    "                print(f\"Error processing input: {e}\")\n",
    "                return None\n",
    "\n",
    "        results = []\n",
    "        with concurrent.futures.ThreadPoolExecutor(max_workers=max_workers) as executor:\n",
    "            futures = [executor.submit(process_input, input_data) for input_data in inputs]\n",
    "            for future in tqdm(concurrent.futures.as_completed(futures), total=len(inputs)):\n",
    "                result = future.result()\n",
    "                if result:\n",
    "                    results.append(result)\n",
    "        \n",
    "        return results"
   ]
  },
  {
   "cell_type": "code",
   "execution_count": 7,
   "metadata": {},
   "outputs": [
    {
     "name": "stdout",
     "output_type": "stream",
     "text": [
      "Translations:\n",
      "[   {   'english': 'Proper documentation of projects is critical to avoid legal risks and '\n",
      "                   'complications.',\n",
      "        'german': 'Eine korrekte Dokumentation von Projekten ist entscheidend, um rechtliche '\n",
      "                  'Risiken und Komplikationen zu vermeiden.'},\n",
      "    {   'english': 'Hello, my name is Samantha. I am the new general counsel at TurpCo Industries.',\n",
      "        'german': 'Hallo, mein Name ist Samantha. Ich bin der neue Chefjurist bei TurpCo '\n",
      "                  'Industries.'},\n",
      "    {   'english': \"I'm going to work hard and become the best player on the team. The other \"\n",
      "                   \"players won't be able to stop me.\",\n",
      "        'german': 'Ich werde hart arbeiten und der beste Spieler im Team werden. Die anderen '\n",
      "                  'Spieler werden mich nicht aufhalten können.'}]\n"
     ]
    }
   ],
   "source": [
    "from datasets import load_dataset\n",
    "from pydantic import BaseModel, Field\n",
    "\n",
    "import pprint\n",
    "\n",
    "# Create a pretty printer object with custom settings\n",
    "pp = pprint.PrettyPrinter(indent=4, width=100, compact=False)\n",
    "\n",
    "class Translation(BaseModel):\n",
    "    english: str = Field(description=\"An english phrase\")\n",
    "    german: str = Field(description=\"An equivalent german phrase that is a translation of the english phrase\")\n",
    "\n",
    "examples = [\n",
    "    Translation(\n",
    "        english=\"Hello, my name is Nathan. I am a research scientist at an AI startup.\",\n",
    "        german=\"Hallo mein Name ist Nathan. Ich bin wissenschaftlicher Mitarbeiter bei einem KI-Startup.\"),\n",
    "    Translation(\n",
    "        english=\"How much wood could a woodchuck chuck if a woodchuck could chuck wood?\",\n",
    "        german=\"Wie viel Holz könnte ein Waldmurmeltier einspannen, wenn ein Waldmurmeltier Holz einspannen könnte?\"),\n",
    "    Translation(\n",
    "        english=\"Thomas Cranmer (2 July 1489 - 21 March 1556) was a leader of the English Reformation and Archbishop of Canterbury during the reigns of Henry VIII, Edward VI and, for a short time, Mary I. He helped build the case for the annulment of Henry's marriage to Catherine of Aragon, which was one of the causes of the separation of the English Church from union with the Holy See.\",\n",
    "        german=\"Thomas Cranmer (2. Juli 1489 - 21. März 1556) war ein Anführer der englischen Reformation und Erzbischof von Canterbury während der Herrschaft von Heinrich VIII., Eduard VI. und für kurze Zeit auch Maria I. Er half bei der Ausarbeitung der Klage für die Aufhebung von Heinrichs Heirat mit Katharina von Aragon, die eine der Ursachen für die Trennung der englischen Kirche von der Union mit dem Heiligen Stuhl war.\"\n",
    "    ),\n",
    "]\n",
    "examples = \"\\n- \".join([f\"{e.english} -> {e.german}\" for e in examples])\n",
    "\n",
    "# Load personas\n",
    "personas = load_dataset(\"proj-persona/PersonaHub\", \"persona\", split='train').select(range(3))['persona']\n",
    "\n",
    "prompt_template = \"\"\"\\\n",
    "Here are some examples:\n",
    "{examples}\n",
    "\n",
    "Create an english and german translation pair that is similar to the examples and would be appropriate for the following persona: {persona}\n",
    "\"\"\"\n",
    "\n",
    "# Generate tiny programs\n",
    "fast_data = FastData()\n",
    "translations = fast_data.generate(\n",
    "    prompt_template=prompt_template,\n",
    "    inputs=[{\"persona\": persona, \"examples\": examples} for persona in personas],\n",
    "    response_model=Translation,\n",
    "    model=\"claude-3-haiku-20240307\"\n",
    ")\n",
    "\n",
    "# Pretty print the translations\n",
    "print(\"Translations:\")\n",
    "pp.pprint(translations)"
   ]
  },
  {
   "cell_type": "code",
   "execution_count": 9,
   "metadata": {},
   "outputs": [
    {
     "name": "stderr",
     "output_type": "stream",
     "text": [
      "  0%|          | 0/3 [00:00<?, ?it/s]"
     ]
    },
    {
     "name": "stderr",
     "output_type": "stream",
     "text": [
      "100%|██████████| 3/3 [00:03<00:00,  1.26s/it]"
     ]
    },
    {
     "name": "stdout",
     "output_type": "stream",
     "text": [
      "Critiques:\n",
      "[   {   'critique': 'The translation accurately conveys the meaning of the original text, '\n",
      "                    'maintaining its professional tone and key concepts. It demonstrates a good '\n",
      "                    'understanding of both languages and appropriately uses German sentence '\n",
      "                    'structure. The term \"Proper documentation\" is well-rendered as \"Eine korrekte '\n",
      "                    'Dokumentation,\" preserving the emphasis on correctness. The translation of '\n",
      "                    '\"legal risks and complications\" as \"rechtliche Risiken und Komplikationen\" is '\n",
      "                    'precise and maintains the professional register. The sentence flows naturally '\n",
      "                    \"in German and would be suitable for professional use. However, it doesn't \"\n",
      "                    'showcase exceptional mastery or handling of particularly challenging '\n",
      "                    'linguistic elements, as the source text is relatively straightforward.',\n",
      "        'score': 4},\n",
      "    {   'critique': 'This translation deserves a high score for several reasons:\\n'\n",
      "                    '\\n'\n",
      "                    '1. It accurately conveys the basic meaning of the source text.\\n'\n",
      "                    '2. The translation is grammatically correct and uses appropriate vocabulary.\\n'\n",
      "                    '3. It maintains the tone and intent of the original, capturing the '\n",
      "                    'determination and confidence.\\n'\n",
      "                    '4. The sentence structure is natural in German, reading fluently.\\n'\n",
      "                    '5. It effectively translates idiomatic expressions like \"work hard\" and '\n",
      "                    '\"won\\'t be able to stop me.\"\\n'\n",
      "                    '\\n'\n",
      "                    'The translation demonstrates a strong grasp of both languages and conveys the '\n",
      "                    \"message clearly and naturally. It's suitable for professional use and reads \"\n",
      "                    'as if it could have been originally written in German.',\n",
      "        'score': 5},\n",
      "    {   'critique': 'The translation accurately conveys the basic meaning and is suitable for '\n",
      "                    'professional use. It demonstrates good understanding of both languages and '\n",
      "                    'accurately translates key terms. The translation of \"general counsel\" to '\n",
      "                    '\"Chefjurist\" is particularly apt, showing cultural and professional '\n",
      "                    'awareness. However, there\\'s a minor gender agreement issue: \"der neue '\n",
      "                    'Chefjurist\" should be \"die neue Chefjuristin\" for a woman named Samantha. '\n",
      "                    \"This small error prevents a perfect score but doesn't significantly impact \"\n",
      "                    'overall meaning or professionalism. The translation is generally of high '\n",
      "                    'quality, resembling the work of an experienced translator.',\n",
      "        'score': 4}]\n"
     ]
    },
    {
     "name": "stderr",
     "output_type": "stream",
     "text": [
      "\n"
     ]
    }
   ],
   "source": [
    "from typing import Literal\n",
    "\n",
    "class TranslationCritique(BaseModel):\n",
    "    critique: str = Field(description=\"A critique of the code.\")\n",
    "    score: Literal[1, 2, 3, 4, 5] = Field(description=\"A score of the code from 1 to 5.\")\n",
    "\n",
    "critique_template = \"\"\"\\\n",
    "Below is an extract of a translation. Evaluate its quality as a senior translator would, considering its suitability for professional use. Use the additive 5-point scoring system described below. Points are accumulated based on the satisfaction of each criterion:\n",
    "\n",
    "- Add 1 point if the translation conveys the basic meaning of the source text, even if it includes some minor errors or awkward phrasing.\n",
    "- Add another point if the translation is generally accurate but lacks refinement in style or fails to capture some nuances of the original. It might use inconsistent terminology or have occasional lapses in register.\n",
    "- Award a third point if the translation is appropriate for professional use and accurately conveys key concepts of the source text. It demonstrates good understanding of both languages, though it may not be flawless or could include some slight inconsistencies. It resembles the work of a competent translator but may have room for improvement in fluency or precision.\n",
    "- Grant a fourth point if the translation is highly accurate and reads naturally in the target language, exhibiting a consistent and appropriate style. It could be similar to the work of an experienced translator, offering faithful rendering of content and tone, with minimal errors, and effectively handling complex concepts or cultural references. The result is coherent, well-expressed, and valuable for its intended purpose.\n",
    "- Bestow a fifth point if the translation is outstanding, demonstrating mastery of both source and target languages. It captures subtle nuances, maintains the author's voice and intent, and reads as if it were originally written in the target language. The translator has made excellent choices in dealing with challenging elements like wordplay, idiomatic expressions, or culture-specific content.\n",
    "\n",
    "The translation extract:\n",
    "{translation}\n",
    "\n",
    "After examining the translation:\n",
    "\n",
    "- Briefly justify your total score, up to 100 words.\n",
    "- Conclude with the score of the translation.\n",
    "\"\"\"\n",
    "\n",
    "critiques = fast_data.generate(\n",
    "    prompt_template=critique_template,\n",
    "    inputs=[{\"translation\": f\"{t['english']} -> {t['german']}\"} for t in translations],\n",
    "    response_model=TranslationCritique,\n",
    "    model=\"claude-3-5-sonnet-20240620\"\n",
    ")\n",
    "\n",
    "# Pretty print the critiques\n",
    "print(\"Critiques:\")\n",
    "pp.pprint(critiques)"
   ]
  },
  {
   "cell_type": "code",
   "execution_count": 10,
   "metadata": {},
   "outputs": [],
   "source": [
    "#| hide\n",
    "import nbdev; nbdev.nbdev_export()"
   ]
  }
 ],
 "metadata": {
  "kernelspec": {
   "display_name": "python3",
   "language": "python",
   "name": "python3"
  },
  "language_info": {
   "codemirror_mode": {
    "name": "ipython",
    "version": 3
   },
   "file_extension": ".py",
   "mimetype": "text/x-python",
   "name": "python",
   "nbconvert_exporter": "python",
   "pygments_lexer": "ipython3",
   "version": "3.10.12"
  }
 },
 "nbformat": 4,
 "nbformat_minor": 4
}
