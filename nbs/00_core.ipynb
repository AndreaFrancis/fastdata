{
 "cells": [
  {
   "cell_type": "markdown",
   "metadata": {},
   "source": [
    "# core\n",
    "\n",
    "> Fill in a module description here"
   ]
  },
  {
   "cell_type": "code",
   "execution_count": null,
   "metadata": {},
   "outputs": [],
   "source": [
    "#| default_exp core"
   ]
  },
  {
   "cell_type": "code",
   "execution_count": null,
   "metadata": {},
   "outputs": [],
   "source": [
    "#| hide\n",
    "from nbdev.showdoc import *"
   ]
  },
  {
   "cell_type": "code",
   "execution_count": null,
   "metadata": {},
   "outputs": [],
   "source": [
    "#| export\n",
    "import concurrent.futures\n",
    "\n",
    "from claudette import *\n",
    "from fastcore.utils import *\n",
    "from ratelimit import limits, sleep_and_retry\n",
    "from tqdm import tqdm"
   ]
  },
  {
   "cell_type": "code",
   "execution_count": null,
   "metadata": {},
   "outputs": [],
   "source": [
    "#| export\n",
    "class FastData:\n",
    "    def __init__(self, calls: int = 100, period: int = 60):\n",
    "        self.set_rate_limit(calls, period)\n",
    "\n",
    "    def set_rate_limit(self, calls: int, period: int):\n",
    "        \"\"\"Set a new rate limit.\"\"\"\n",
    "        @sleep_and_retry\n",
    "        @limits(calls=calls, period=period)\n",
    "        def rate_limited_call(model: str, prompt: str, response_model, sp: str):\n",
    "            chat = Chat(\n",
    "                model,\n",
    "                sp=sp,\n",
    "                tools=[response_model],\n",
    "                tool_choice={'response_model': response_model},\n",
    "            )\n",
    "            chat(prompt, temp=1)\n",
    "            return chat.last_tool_result.content\n",
    "        \n",
    "        self._rate_limited_call = rate_limited_call\n",
    "\n",
    "    def generate(self, \n",
    "                 prompt_template: str, \n",
    "                 inputs: list[dict], \n",
    "                 response_model, \n",
    "                 model: str = \"claude-3-haiku-20240307\",\n",
    "                 sp: str = \"You are a helpful assistant.\",\n",
    "                 max_workers: int = 64) -> list[dict]:\n",
    "        \n",
    "        def process_input(input_data):\n",
    "            try:\n",
    "                prompt = prompt_template.format(**input_data)\n",
    "                response = self._rate_limited_call(\n",
    "                    model=model,\n",
    "                    prompt=prompt,\n",
    "                    response_model=response_model,\n",
    "                    sp=sp\n",
    "                )\n",
    "                return response\n",
    "            except Exception as e:\n",
    "                print(f\"Error processing input: {e}\")\n",
    "                return None\n",
    "\n",
    "        results = []\n",
    "        with concurrent.futures.ThreadPoolExecutor(max_workers=max_workers) as executor:\n",
    "            futures = [executor.submit(process_input, input_data) for input_data in inputs]\n",
    "            for future in tqdm(concurrent.futures.as_completed(futures), total=len(inputs)):\n",
    "                result = future.result()\n",
    "                results.append(result)\n",
    "        \n",
    "        return results"
   ]
  },
  {
   "cell_type": "code",
   "execution_count": null,
   "metadata": {},
   "outputs": [
    {
     "data": {
      "text/plain": [
       "__main__.Translation(english='Hello, how are you today?', german='Hallo, wie geht es Ihnen heute?')"
      ]
     },
     "execution_count": null,
     "metadata": {},
     "output_type": "execute_result"
    }
   ],
   "source": [
    "class Translation():\n",
    "    \"\"\"Translation from an English phrase to a German phrase\"\"\"\n",
    "    def __init__(self, english: str, german: str): store_attr()\n",
    "    \n",
    "    __repr__ = basic_repr([\"english\", \"german\"])\n",
    "    def __str__(self): return \"The translation has been created.\"\n",
    "\n",
    "Translation(\"Hello, how are you today?\", \"Hallo, wie geht es Ihnen heute?\")"
   ]
  },
  {
   "cell_type": "code",
   "execution_count": null,
   "metadata": {},
   "outputs": [
    {
     "name": "stderr",
     "output_type": "stream",
     "text": [
      "100%|████████████████████████████████████████████████████████████| 3/3 [00:02<00:00,  1.27it/s]"
     ]
    },
    {
     "name": "stdout",
     "output_type": "stream",
     "text": [
      "Translations:\n",
      "[__main__.Translation(english='Proper documentation is critical for any legal contract or agreement. Incomplete or inaccurate project details can lead to significant issues down the line.', german='Ordnungsgemäße Dokumentation ist entscheidend für jeden Rechtsvertrag oder jede Vereinbarung. Unvollständige oder ungenaue Projektdetails können später zu erheblichen Problemen führen.'), __main__.Translation(english=\"Postpartum complications can be life-threatening, but awareness and education can save lives. As a maternal health advocate, I'm dedicated to empowering women and their families to recognize warning signs and seek medical care.\", german='Komplikationen nach der Geburt können lebensbedrohlich sein, aber Bewusstsein und Bildung können Menschenleben retten. Als Fürsprecherin für die Gesundheit von Müttern setze ich mich entschlossen dafür ein, Frauen und ihre Familien zu befähigen, Warnsignale zu erkennen und ärztliche Hilfe in Anspruch zu nehmen.'), __main__.Translation(english=\"El Salvador's political landscape has seen significant changes in recent years. The 2019 presidential election marked a shift in power, with Nayib Bukele's victory ending the two-party dominance that had characterized the country's politics for decades.\", german='Die politische Landschaft von El Salvador hat in den letzten Jahren erhebliche Veränderungen erlebt. Die Präsidentschaftswahl 2019 markierte einen Machtwechsel, bei dem der Sieg von Nayib Bukele die jahrzehntelange Dominanz der Zwei-Parteien-Herrschaft in der Politik des Landes beendete.')]\n"
     ]
    },
    {
     "name": "stderr",
     "output_type": "stream",
     "text": [
      "\n"
     ]
    }
   ],
   "source": [
    "from datasets import load_dataset\n",
    "\n",
    "examples = [\n",
    "    Translation(\n",
    "        english=\"Hello, my name is Nathan. I am a research scientist at an AI startup.\",\n",
    "        german=\"Hallo mein Name ist Nathan. Ich bin wissenschaftlicher Mitarbeiter bei einem KI-Startup.\"),\n",
    "    Translation(\n",
    "        english=\"How much wood could a woodchuck chuck if a woodchuck could chuck wood?\",\n",
    "        german=\"Wie viel Holz könnte ein Waldmurmeltier einspannen, wenn ein Waldmurmeltier Holz einspannen könnte?\"),\n",
    "    Translation(\n",
    "        english=\"Thomas Cranmer (2 July 1489 - 21 March 1556) was a leader of the English Reformation and Archbishop of Canterbury during the reigns of Henry VIII, Edward VI and, for a short time, Mary I. He helped build the case for the annulment of Henry's marriage to Catherine of Aragon, which was one of the causes of the separation of the English Church from union with the Holy See.\",\n",
    "        german=\"Thomas Cranmer (2. Juli 1489 - 21. März 1556) war ein Anführer der englischen Reformation und Erzbischof von Canterbury während der Herrschaft von Heinrich VIII., Eduard VI. und für kurze Zeit auch Maria I. Er half bei der Ausarbeitung der Klage für die Aufhebung von Heinrichs Heirat mit Katharina von Aragon, die eine der Ursachen für die Trennung der englischen Kirche von der Union mit dem Heiligen Stuhl war.\"\n",
    "    ),\n",
    "]\n",
    "examples = \"\\n- \".join([f\"{e.english} -> {e.german}\" for e in examples])\n",
    "\n",
    "# Load personas\n",
    "personas = load_dataset(\"proj-persona/PersonaHub\", \"persona\", split='train').select(range(3))['persona']\n",
    "\n",
    "sp = \"You will help generate synethetic data of English and German phrases.\"\n",
    "prompt_template = \"\"\"\\\n",
    "Here are some examples:\n",
    "{examples}\n",
    "\n",
    "Create an english and german translation pair that is similar to the examples and would be appropriate for the following persona: {persona}\n",
    "\"\"\"\n",
    "\n",
    "# Generate translations\n",
    "fast_data = FastData()\n",
    "translations = fast_data.generate(\n",
    "    prompt_template=prompt_template,\n",
    "    inputs=[{\"persona\": persona, \"examples\": examples} for persona in personas],\n",
    "    response_model=Translation,\n",
    "    model=\"claude-3-haiku-20240307\",\n",
    "    sp=sp\n",
    ")\n",
    "\n",
    "print(\"Translations:\")\n",
    "print(translations)"
   ]
  },
  {
   "cell_type": "code",
   "execution_count": null,
   "metadata": {},
   "outputs": [
    {
     "name": "stderr",
     "output_type": "stream",
     "text": [
      "100%|████████████████████████████████████████████████████████████| 3/3 [00:03<00:00,  1.31s/it]"
     ]
    },
    {
     "name": "stdout",
     "output_type": "stream",
     "text": [
      "Critiques:\n",
      "[__main__.TranslationCritique(critique='The translation accurately conveys the main message and maintains the tone of the original text. It demonstrates a good understanding of both languages and handles the medical terminology appropriately. The phrasing is natural in German and captures the call to action effectively. There are minor improvements possible: \"Komplikationen nach der Geburt\" could be more precisely \"Postpartale Komplikationen,\" and \"eine gesunde Genesung haben\" could be more idiomatic as \"sich gut erholen.\" However, these are minor points in an otherwise excellent translation that would be suitable for professional use.', score=4), __main__.TranslationCritique(critique='This translation is excellent, deserving a full 5 points. It accurately conveys the original meaning, maintaining both the content and tone of the source text. The German version captures the nuances of \"marked by\" with \"geprägt\" and \"authoritarian rule\" with \"autokratischen Herrschaft\". The phrase \"significant strides\" is well rendered as \"beträchtliche Fortschritte\". The translator demonstrates mastery of both languages, producing a natural and fluent German text that could easily be mistaken for an original. The translation is suitable for professional use, showing consistency in style and terminology.', score=5), __main__.TranslationCritique(critique='This translation deserves a high score for its accuracy and fluency. It effectively conveys the main message and tone of the original text. The translator has accurately rendered key terms like \"project documentation\" (Projektdokumentation), \"legal consequences\" (rechtliche Folgen), and \"contracts and agreements\" (Verträge und Vereinbarungen). The German version maintains the formal register appropriate for legal contexts. The phrase \"Attention to detail and clarity\" is well-translated as \"Genauigkeit und Klarheit,\" capturing the essence of the original. The translation reads naturally in German and would be suitable for professional use. While it\\'s excellent, it doesn\\'t quite reach the level of literary brilliance that would warrant a perfect score.', score=4)]\n"
     ]
    },
    {
     "name": "stderr",
     "output_type": "stream",
     "text": [
      "\n"
     ]
    }
   ],
   "source": [
    "class TranslationCritique():\n",
    "    \"\"\"\n",
    "    A critique of the translation.\n",
    "    \"\"\"\n",
    "    def __init__(\n",
    "        self,\n",
    "        critique: str, # A critique of the translation.\n",
    "        score: int # A score of the translation from 1 to 5. \n",
    "    ): store_attr()\n",
    "        \n",
    "    __repr__ = basic_repr(['critique', 'score'])\n",
    "    def __str__(self): return \"The critique has been created.\"\n",
    "\n",
    "\n",
    "sp = \"You will help critique synethetic data of English and German phrases.\"\n",
    "critique_template = \"\"\"\\\n",
    "Below is an extract of a translation. Evaluate its quality as a senior translator would, considering its suitability for professional use. Use the additive 5-point scoring system described below. Points are accumulated based on the satisfaction of each criterion:\n",
    "\n",
    "- Add 1 point if the translation conveys the basic meaning of the source text, even if it includes some minor errors or awkward phrasing.\n",
    "- Add another point if the translation is generally accurate but lacks refinement in style or fails to capture some nuances of the original. It might use inconsistent terminology or have occasional lapses in register.\n",
    "- Award a third point if the translation is appropriate for professional use and accurately conveys key concepts of the source text. It demonstrates good understanding of both languages, though it may not be flawless or could include some slight inconsistencies. It resembles the work of a competent translator but may have room for improvement in fluency or precision.\n",
    "- Grant a fourth point if the translation is highly accurate and reads naturally in the target language, exhibiting a consistent and appropriate style. It could be similar to the work of an experienced translator, offering faithful rendering of content and tone, with minimal errors, and effectively handling complex concepts or cultural references. The result is coherent, well-expressed, and valuable for its intended purpose.\n",
    "- Bestow a fifth point if the translation is outstanding, demonstrating mastery of both source and target languages. It captures subtle nuances, maintains the author's voice and intent, and reads as if it were originally written in the target language. The translator has made excellent choices in dealing with challenging elements like wordplay, idiomatic expressions, or culture-specific content.\n",
    "\n",
    "The translation extract:\n",
    "{translation}\n",
    "\n",
    "After examining the translation:\n",
    "\n",
    "- Briefly justify your total score, up to 100 words.\n",
    "- Conclude with the score of the translation.\n",
    "\"\"\"\n",
    "\n",
    "critiques = fast_data.generate(\n",
    "    prompt_template=critique_template,\n",
    "    inputs=[{\"translation\": f\"{t.english} -> {t.german}\"} for t in translations],\n",
    "    response_model=TranslationCritique,\n",
    "    model=\"claude-3-5-sonnet-20240620\",\n",
    "    sp=sp\n",
    ")\n",
    "\n",
    "print(\"Critiques:\")\n",
    "print(critiques)"
   ]
  },
  {
   "cell_type": "code",
   "execution_count": null,
   "metadata": {},
   "outputs": [],
   "source": [
    "#| hide\n",
    "import nbdev; nbdev.nbdev_export()"
   ]
  }
 ],
 "metadata": {
  "kernelspec": {
   "display_name": "python3",
   "language": "python",
   "name": "python3"
  }
 },
 "nbformat": 4,
 "nbformat_minor": 4
}
