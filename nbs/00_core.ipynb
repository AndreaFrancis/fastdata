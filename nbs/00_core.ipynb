{
 "cells": [
  {
   "cell_type": "markdown",
   "metadata": {},
   "source": [
    "# core\n",
    "\n",
    "> Fill in a module description here"
   ]
  },
  {
   "cell_type": "code",
   "execution_count": null,
   "metadata": {},
   "outputs": [],
   "source": [
    "#| default_exp core"
   ]
  },
  {
   "cell_type": "code",
   "execution_count": null,
   "metadata": {},
   "outputs": [],
   "source": [
    "#| hide\n",
    "from nbdev.showdoc import *"
   ]
  },
  {
   "cell_type": "code",
   "execution_count": null,
   "metadata": {},
   "outputs": [],
   "source": [
    "#| export\n",
    "import concurrent.futures\n",
    "\n",
    "from claudette import *\n",
    "from fastcore.utils import *\n",
    "from ratelimit import limits, sleep_and_retry\n",
    "from tqdm import tqdm"
   ]
  },
  {
   "cell_type": "code",
   "execution_count": null,
   "metadata": {},
   "outputs": [],
   "source": [
    "#| export\n",
    "class FastData:\n",
    "    def __init__(self,\n",
    "                 model: str = \"claude-3-haiku-20240307\",\n",
    "                 calls: int = 100,\n",
    "                 period: int = 60):\n",
    "        self.cli = Client(model)\n",
    "        self.set_rate_limit(calls, period)\n",
    "\n",
    "    def set_rate_limit(self, calls: int, period: int):\n",
    "        \"\"\"Set a new rate limit.\"\"\"\n",
    "        @sleep_and_retry\n",
    "        @limits(calls=calls, period=period)\n",
    "        def rate_limited_call(prompt: str, schema, sp: str):\n",
    "            return self.cli.structured(\n",
    "                prompt,\n",
    "                ns=globals(),\n",
    "                temp=1,\n",
    "                tools=schema,\n",
    "                tool_choice=schema\n",
    "            )[0]\n",
    "        \n",
    "        self._rate_limited_call = rate_limited_call\n",
    "\n",
    "    def generate(self, \n",
    "                 prompt_template: str, \n",
    "                 inputs: list[dict], \n",
    "                 schema,\n",
    "                 sp: str = \"You are a helpful assistant.\",\n",
    "                 max_workers: int = 64) -> list[dict]:\n",
    "        \n",
    "        def process_input(input_data):\n",
    "            try:\n",
    "                prompt = prompt_template.format(**input_data)\n",
    "                response = self._rate_limited_call(\n",
    "                    prompt=prompt,\n",
    "                    schema=schema,\n",
    "                    sp=sp\n",
    "                )\n",
    "                return response\n",
    "            except Exception as e:\n",
    "                print(f\"Error processing input: {e}\")\n",
    "                return None\n",
    "\n",
    "        results = []\n",
    "        with concurrent.futures.ThreadPoolExecutor(max_workers=max_workers) as executor:\n",
    "            futures = [executor.submit(process_input, input_data) for input_data in inputs]\n",
    "            for future in tqdm(concurrent.futures.as_completed(futures), total=len(inputs)):\n",
    "                result = future.result()\n",
    "                results.append(result)\n",
    "        \n",
    "        return results"
   ]
  },
  {
   "cell_type": "code",
   "execution_count": null,
   "metadata": {},
   "outputs": [
    {
     "data": {
      "text/plain": [
       "__main__.Translation(english='Hello, how are you today?', german='Hallo, wie geht es Ihnen heute?')"
      ]
     },
     "execution_count": null,
     "metadata": {},
     "output_type": "execute_result"
    }
   ],
   "source": [
    "class Translation():\n",
    "    \"\"\"Translation from an English phrase to a German phrase\"\"\"\n",
    "    def __init__(self, english: str, german: str): store_attr()\n",
    "    \n",
    "    __repr__ = basic_repr([\"english\", \"german\"])\n",
    "\n",
    "Translation(\"Hello, how are you today?\", \"Hallo, wie geht es Ihnen heute?\")"
   ]
  },
  {
   "cell_type": "code",
   "execution_count": null,
   "metadata": {},
   "outputs": [
    {
     "name": "stderr",
     "output_type": "stream",
     "text": [
      "100%|██████████████████████████████████████████████████████████████████████| 3/3 [00:02<00:00,  1.48it/s]"
     ]
    },
    {
     "name": "stdout",
     "output_type": "stream",
     "text": [
      "Translations:\n",
      "[__main__.Translation(english='Postpartum complications can be life-threatening, but many are preventable with proper education and care. As a maternal health advocate, I work to raise awareness and support new mothers.', german='Geburtskomplikationen können lebensbedrohlich sein, aber viele sind durch richtige Aufklärung und Versorgung vermeidbar. Als Verfechterin der Gesundheit von Müttern arbeite ich daran, das Bewusstsein zu schärfen und junge Mütter zu unterstützen.'), __main__.Translation(english=\"As a legal advisor, it's crucial to ensure that project documentation is complete and accurate to avoid potential legal issues down the line. Incomplete or inaccurate documentation can lead to misunderstandings, disputes, and even legal liabilities.\", german='Als Rechtsberater ist es von entscheidender Bedeutung, dass die Projektdokumentation vollständig und korrekt ist, um mögliche rechtliche Probleme in der Zukunft zu vermeiden. Unvollständige oder ungenaue Dokumentation kann zu Missverständnissen, Streitigkeiten und sogar rechtlichen Haftungen führen.'), __main__.Translation(english='El Salvador has been a stable democracy since the end of its civil war in the 1990s, but it continues to face challenges with gang violence and corruption. The current president, Nayib Bukele, has implemented controversial policies to combat these issues, which have drawn both praise and criticism from domestic and international observers.', german='El Salvador ist seit dem Ende seines Bürgerkriegs in den 1990er Jahren eine stabile Demokratie, sieht sich aber weiterhin Herausforderungen durch Bandenkriminalität und Korruption gegenüber. Der derzeitige Präsident, Nayib Bukele, hat kontroverse Maßnahmen ergriffen, um diese Probleme anzugehen, die sowohl Lob als auch Kritik von inländischen und internationalen Beobachtern erfahren haben.')]\n"
     ]
    },
    {
     "name": "stderr",
     "output_type": "stream",
     "text": [
      "\n"
     ]
    }
   ],
   "source": [
    "from datasets import load_dataset\n",
    "\n",
    "examples = [\n",
    "    Translation(\n",
    "        english=\"Hello, my name is Nathan. I am a research scientist at an AI startup.\",\n",
    "        german=\"Hallo mein Name ist Nathan. Ich bin wissenschaftlicher Mitarbeiter bei einem KI-Startup.\"),\n",
    "    Translation(\n",
    "        english=\"How much wood could a woodchuck chuck if a woodchuck could chuck wood?\",\n",
    "        german=\"Wie viel Holz könnte ein Waldmurmeltier einspannen, wenn ein Waldmurmeltier Holz einspannen könnte?\"),\n",
    "    Translation(\n",
    "        english=\"Thomas Cranmer (2 July 1489 - 21 March 1556) was a leader of the English Reformation and Archbishop of Canterbury during the reigns of Henry VIII, Edward VI and, for a short time, Mary I. He helped build the case for the annulment of Henry's marriage to Catherine of Aragon, which was one of the causes of the separation of the English Church from union with the Holy See.\",\n",
    "        german=\"Thomas Cranmer (2. Juli 1489 - 21. März 1556) war ein Anführer der englischen Reformation und Erzbischof von Canterbury während der Herrschaft von Heinrich VIII., Eduard VI. und für kurze Zeit auch Maria I. Er half bei der Ausarbeitung der Klage für die Aufhebung von Heinrichs Heirat mit Katharina von Aragon, die eine der Ursachen für die Trennung der englischen Kirche von der Union mit dem Heiligen Stuhl war.\"\n",
    "    ),\n",
    "]\n",
    "examples = \"\\n- \".join([f\"{e.english} -> {e.german}\" for e in examples])\n",
    "\n",
    "# Load personas\n",
    "personas = load_dataset(\"proj-persona/PersonaHub\", \"persona\", split='train').select(range(3))['persona']\n",
    "\n",
    "sp = \"You will help generate synethetic data of English and German phrases.\"\n",
    "prompt_template = \"\"\"\\\n",
    "Here are some examples:\n",
    "{examples}\n",
    "\n",
    "Create an english and german translation pair that is similar to the examples and would be appropriate for the following persona: {persona}\n",
    "\"\"\"\n",
    "\n",
    "# Generate translations\n",
    "fast_data = FastData(model=\"claude-3-haiku-20240307\")\n",
    "translations = fast_data.generate(\n",
    "    prompt_template=prompt_template,\n",
    "    inputs=[{\"persona\": persona, \"examples\": examples} for persona in personas],\n",
    "    schema=Translation,\n",
    "    sp=sp\n",
    ")\n",
    "\n",
    "print(\"Translations:\")\n",
    "print(translations)"
   ]
  },
  {
   "cell_type": "code",
   "execution_count": null,
   "metadata": {},
   "outputs": [
    {
     "name": "stderr",
     "output_type": "stream",
     "text": [
      "100%|██████████████████████████████████████████████████████████████████████| 3/3 [00:03<00:00,  1.24s/it]"
     ]
    },
    {
     "name": "stdout",
     "output_type": "stream",
     "text": [
      "Critiques:\n",
      "[__main__.TranslationCritique(critique='The translation accurately conveys the meaning of the source text, maintaining the legal context and key terminology. It demonstrates a strong grasp of both languages, effectively translating complex concepts like \"legal liabilities\" (rechtlichen Haftungen). The German version reads naturally and maintains the formal tone appropriate for legal contexts. It captures nuances such as \"down the line\" (in der Zukunft) idiomatically. The translation is highly accurate, professionally suitable, and could be the work of an experienced translator. While it\\'s excellent, it doesn\\'t quite reach the level of absolute mastery that would warrant a perfect score.', score=4), __main__.TranslationCritique(critique='This translation is of high quality, demonstrating professional-level work. It accurately conveys the meaning of the source text, maintaining the appropriate register and tone. The translator has made excellent word choices, such as \"Verfechterin\" for \"advocate,\" which captures the nuance of dedication to the cause. The phrasing is natural in German and maintains the clarity of the original message. There are no significant errors or awkward constructions. The only minor point that could be improved is the translation of \"new mothers\" as \"junge Mütter\" (young mothers), which slightly alters the original meaning. Overall, it\\'s a very strong translation suitable for professional use.', score=4), __main__.TranslationCritique(critique='This translation deserves 5 points for its outstanding quality. It accurately conveys the original meaning, maintains the appropriate tone, and reads naturally in German. The translator has skillfully handled complex concepts like \"stable democracy\" and \"gang violence,\" preserving both content and nuance. The phrasing is idiomatic and flows well, demonstrating mastery of both languages. Key terms are consistently and appropriately translated, and the sentence structure effectively adapts to German syntax while maintaining the original\\'s intent. This translation is of professional caliber and could be used in high-level contexts without hesitation.', score=5)]\n"
     ]
    },
    {
     "name": "stderr",
     "output_type": "stream",
     "text": [
      "\n"
     ]
    }
   ],
   "source": [
    "class TranslationCritique():\n",
    "    \"\"\"\n",
    "    A critique of the translation.\n",
    "    \"\"\"\n",
    "    def __init__(\n",
    "        self,\n",
    "        critique: str, # A critique of the translation.\n",
    "        score: int # A score of the translation from 1 to 5. \n",
    "    ): store_attr()\n",
    "        \n",
    "    __repr__ = basic_repr(['critique', 'score'])\n",
    "\n",
    "sp = \"You will help critique synethetic data of English and German phrases.\"\n",
    "critique_template = \"\"\"\\\n",
    "Below is an extract of a translation. Evaluate its quality as a senior translator would, considering its suitability for professional use. Use the additive 5-point scoring system described below. Points are accumulated based on the satisfaction of each criterion:\n",
    "\n",
    "- Add 1 point if the translation conveys the basic meaning of the source text, even if it includes some minor errors or awkward phrasing.\n",
    "- Add another point if the translation is generally accurate but lacks refinement in style or fails to capture some nuances of the original. It might use inconsistent terminology or have occasional lapses in register.\n",
    "- Award a third point if the translation is appropriate for professional use and accurately conveys key concepts of the source text. It demonstrates good understanding of both languages, though it may not be flawless or could include some slight inconsistencies. It resembles the work of a competent translator but may have room for improvement in fluency or precision.\n",
    "- Grant a fourth point if the translation is highly accurate and reads naturally in the target language, exhibiting a consistent and appropriate style. It could be similar to the work of an experienced translator, offering faithful rendering of content and tone, with minimal errors, and effectively handling complex concepts or cultural references. The result is coherent, well-expressed, and valuable for its intended purpose.\n",
    "- Bestow a fifth point if the translation is outstanding, demonstrating mastery of both source and target languages. It captures subtle nuances, maintains the author's voice and intent, and reads as if it were originally written in the target language. The translator has made excellent choices in dealing with challenging elements like wordplay, idiomatic expressions, or culture-specific content.\n",
    "\n",
    "The translation extract:\n",
    "{translation}\n",
    "\n",
    "After examining the translation:\n",
    "\n",
    "- Briefly justify your total score, up to 100 words.\n",
    "- Conclude with the score of the translation.\n",
    "\"\"\"\n",
    "\n",
    "fast_data = FastData(model=\"claude-3-5-sonnet-20240620\")\n",
    "critiques = fast_data.generate(\n",
    "    prompt_template=critique_template,\n",
    "    inputs=[{\"translation\": f\"{t.english} -> {t.german}\"} for t in translations],\n",
    "    schema=TranslationCritique,\n",
    "    sp=sp\n",
    ")\n",
    "\n",
    "print(\"Critiques:\")\n",
    "print(critiques)"
   ]
  },
  {
   "cell_type": "code",
   "execution_count": null,
   "metadata": {},
   "outputs": [],
   "source": [
    "#| hide\n",
    "import nbdev; nbdev.nbdev_export()"
   ]
  }
 ],
 "metadata": {
  "kernelspec": {
   "display_name": "python3",
   "language": "python",
   "name": "python3"
  }
 },
 "nbformat": 4,
 "nbformat_minor": 4
}
